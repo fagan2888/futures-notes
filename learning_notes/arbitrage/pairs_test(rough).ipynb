{
 "cells": [
  {
   "cell_type": "code",
   "execution_count": 1,
   "metadata": {
    "collapsed": true
   },
   "outputs": [],
   "source": [
    "import pandas as pd\n",
    "import numpy as np\n",
    "import statsmodels.api as sm\n",
    "from sklearn.linear_model import LinearRegression"
   ]
  },
  {
   "cell_type": "code",
   "execution_count": 2,
   "metadata": {
    "collapsed": false,
    "scrolled": false
   },
   "outputs": [],
   "source": [
    "all_contracts = all_instruments(\"Future\")\n",
    "match = r'\\w{1,2}88'\n",
    "continious_contracts = all_contracts[all_contracts.order_book_id.str.contains(match)]\n",
    "continious_contracts = continious_contracts.where(continious_contracts[\"product\"] == \"Commodity\").dropna(how=\"all\")\n",
    "all_commodity = sorted(set(continious_contracts.underlying_symbol))"
   ]
  },
  {
   "cell_type": "code",
   "execution_count": 3,
   "metadata": {
    "collapsed": false
   },
   "outputs": [],
   "source": [
    "continious_contracts.set_index(\"order_book_id\",inplace = True)"
   ]
  },
  {
   "cell_type": "code",
   "execution_count": null,
   "metadata": {
    "collapsed": false
   },
   "outputs": [],
   "source": [
    "continious_contracts.symbol.apply(lambda x : x if \"麦\" in x else np.nan).dropna()"
   ]
  },
  {
   "cell_type": "code",
   "execution_count": 4,
   "metadata": {
    "collapsed": true
   },
   "outputs": [],
   "source": [
    "# 螺纹钢，铁矿石\n",
    "pairs1 = [\"RB\",\"I\"]\n",
    "# 焦煤，焦炭\n",
    "pairs2 = [\"JM\",\"J\"]\n",
    "# 鸡蛋，玉米，豆粕\n",
    "pairs3 = [\"JD\",\"M\"]\n",
    "# ,\"C\"\n",
    "# 强麦，硬麦\n",
    "# pairs4 = [\"WH\",\"WT\"]\n",
    "# 银，金\n",
    "pairs5 = [\"AG\",\"AU\"]\n",
    "# 铜，锌\n",
    "pairs6 = [\"CU\",\"ZN\"]"
   ]
  },
  {
   "cell_type": "code",
   "execution_count": null,
   "metadata": {
    "collapsed": false
   },
   "outputs": [],
   "source": [
    "def winsorized(series,n = 3):\n",
    "  median = series.median()\n",
    "  median_distance = abs(series - median).median()\n",
    "  return series.clip(median-n*median_distance,median+n*median_distance)\n"
   ]
  },
  {
   "cell_type": "code",
   "execution_count": 13,
   "metadata": {
    "collapsed": true
   },
   "outputs": [],
   "source": [
    "def get_efficient(pairs,start_date,end_date):\n",
    "  close_price = list(map(lambda x: get_price(x+\"88\",start_date,end_date,fields=\"close\"),pairs))\n",
    "#   print(close_price)\n",
    "  pairs_data = pd.concat([close_price[0],close_price[1]],axis=1).dropna()\n",
    "  pairs_data.columns = [pairs[0],pairs[1]]\n",
    "  linreg = LinearRegression(fit_intercept=False)\n",
    "  params_coef = linreg.fit(pairs_data.iloc[:,0].values.reshape(-1,1),pairs_data.iloc[:,1]).coef_\n",
    "  if params_coef>1:\n",
    "    return {\"x\": pairs[0],\"y\":pairs[1],\"efficient\":int(params_coef)}\n",
    "  \n",
    "  linreg = LinearRegression(fit_intercept=False)\n",
    "  params_coef = linreg.fit(pairs_data.iloc[:,1].values.reshape(-1,1),pairs_data.iloc[:,0]).coef_\n",
    "  if params_coef>1:\n",
    "    return {\"x\": pairs[1],\"y\":pairs[0],\"efficient\":int(params_coef)}\n",
    "  \n",
    "  return {\"x\": pairs[0],\"y\":pairs[1],\"efficient\":1}"
   ]
  },
  {
   "cell_type": "code",
   "execution_count": 14,
   "metadata": {
    "collapsed": true
   },
   "outputs": [],
   "source": [
    "def get_backTest_sharpe(pairs,k1,k2,windows):\n",
    "  pairs_results = get_efficient(pairs,\"2013-01-01\",\"2018-01-01\")\n",
    "  y = get_price(pairs_results.get(\"y\")+\"88\",\"2013-01-01\",\"2018-01-01\",fields=\"close\",frequency='1m')\n",
    "  x = get_price(pairs_results.get(\"x\")+\"88\",\"2013-01-01\",\"2018-01-01\",fields=\"close\",frequency='1m')\n",
    "  spread = y - x*pairs_results.get(\"efficient\")\n",
    "\n",
    "  spread_avg = spread.rolling(center=False,window=windows).mean()\n",
    "  spread_std = spread.rolling(center=False,window=windows).std()\n",
    "  # 上下届\n",
    "  up_point = spread_avg+k1*spread_std\n",
    "  down_point = spread_avg-k2*spread_std\n",
    "\n",
    "  # 卖出价差：1：y 价格 处于高位 ；x价格 处于低位, 买x，卖y\n",
    "  # 买入价差：-1：x 价格处于高位 ；y价格 处于低位，买y，卖x\n",
    "  signal_S = (spread > up_point).astype(int)\n",
    "  signal = (spread < down_point).astype(int).replace([0,1],[np.nan,-1]).fillna(signal_S)\n",
    "\n",
    "  y_chg = y.pct_change().shift(-1)\n",
    "  x_chg = x.pct_change().shift(-1)\n",
    "\n",
    "  combined_data = pd.concat([signal,x_chg,y_chg],axis=1)\n",
    "  combined_data.columns = [\"signal\",\"x_chg\",\"y_chg\"]\n",
    "\n",
    "  # x与y的收益率差， 当期至下一时期的收益率\n",
    "  combined_data[\"DIFF\"] = (combined_data[\"x_chg\"] - combined_data[\"y_chg\"])\n",
    "  rets = (combined_data[\"signal\"]*combined_data[\"DIFF\"])\n",
    "  sharpe = rets.mean()/rets.std()\n",
    "  return sharpe\n",
    "  "
   ]
  },
  {
   "cell_type": "code",
   "execution_count": 15,
   "metadata": {
    "collapsed": true
   },
   "outputs": [],
   "source": [
    "results = {}\n",
    "i = 0\n",
    "\n"
   ]
  },
  {
   "cell_type": "code",
   "execution_count": null,
   "metadata": {
    "collapsed": false
   },
   "outputs": [
    {
     "name": "stdout",
     "output_type": "stream",
     "text": [
      "0 2 2 pairs5 20\n"
     ]
    }
   ],
   "source": [
    "\n",
    "k1_list = [2,3]\n",
    "k2_list = [2,3]\n",
    "windows_list = np.arange(20,90,10)\n",
    "pairs_list = {\"pairs1\":pairs1,\"pairs2\":pairs2,\"pairs3\":pairs3,\"pairs5\":pairs5,\"pairs6\":pairs6}\n",
    "# pairs_list = {\"pairs6\":pairs6}\n",
    "\n",
    "\n",
    "\n",
    "for k1 in k1_list:\n",
    "  for k2 in k2_list:\n",
    "    for pairs in pairs_list.keys():\n",
    "      for windows in windows_list:\n",
    "        print(i,k1,k2,pairs,windows)\n",
    "        sharpe = get_backTest_sharpe(pairs_list.get(pairs),k1,k2,windows)\n",
    "        res = pd.Series([sharpe,k1,k2,pairs,windows],index = [\"sharpe\",\"k1\",\"k2\",\"pairs\",\"windows\"])\n",
    "        results[i] = res\n",
    "        i+=1\n",
    "\n",
    "\n",
    "      \n"
   ]
  },
  {
   "cell_type": "code",
   "execution_count": 27,
   "metadata": {
    "collapsed": false,
    "scrolled": true
   },
   "outputs": [],
   "source": [
    "pairs_results = pd.DataFrame(results).T.set_index([\"pairs\",\"windows\"]).sort_index()"
   ]
  },
  {
   "cell_type": "code",
   "execution_count": 29,
   "metadata": {
    "collapsed": false
   },
   "outputs": [
    {
     "data": {
      "text/html": [
       "<div>\n",
       "<table border=\"1\" class=\"dataframe\">\n",
       "  <thead>\n",
       "    <tr style=\"text-align: right;\">\n",
       "      <th></th>\n",
       "      <th></th>\n",
       "      <th>sharpe</th>\n",
       "      <th>k1</th>\n",
       "      <th>k2</th>\n",
       "    </tr>\n",
       "    <tr>\n",
       "      <th>pairs</th>\n",
       "      <th>windows</th>\n",
       "      <th></th>\n",
       "      <th></th>\n",
       "      <th></th>\n",
       "    </tr>\n",
       "  </thead>\n",
       "  <tbody>\n",
       "    <tr>\n",
       "      <th rowspan=\"5\" valign=\"top\">pairs1</th>\n",
       "      <th>30</th>\n",
       "      <td>0.105857</td>\n",
       "      <td>2</td>\n",
       "      <td>2</td>\n",
       "    </tr>\n",
       "    <tr>\n",
       "      <th>40</th>\n",
       "      <td>0.1019</td>\n",
       "      <td>2</td>\n",
       "      <td>2</td>\n",
       "    </tr>\n",
       "    <tr>\n",
       "      <th>20</th>\n",
       "      <td>0.100352</td>\n",
       "      <td>2</td>\n",
       "      <td>2</td>\n",
       "    </tr>\n",
       "    <tr>\n",
       "      <th>50</th>\n",
       "      <td>0.0978806</td>\n",
       "      <td>2</td>\n",
       "      <td>2</td>\n",
       "    </tr>\n",
       "    <tr>\n",
       "      <th>60</th>\n",
       "      <td>0.0918111</td>\n",
       "      <td>2</td>\n",
       "      <td>2</td>\n",
       "    </tr>\n",
       "    <tr>\n",
       "      <th rowspan=\"3\" valign=\"top\">pairs2</th>\n",
       "      <th>40</th>\n",
       "      <td>0.0899824</td>\n",
       "      <td>2</td>\n",
       "      <td>2</td>\n",
       "    </tr>\n",
       "    <tr>\n",
       "      <th>20</th>\n",
       "      <td>0.0879231</td>\n",
       "      <td>2</td>\n",
       "      <td>2</td>\n",
       "    </tr>\n",
       "    <tr>\n",
       "      <th>30</th>\n",
       "      <td>0.087913</td>\n",
       "      <td>2</td>\n",
       "      <td>2</td>\n",
       "    </tr>\n",
       "    <tr>\n",
       "      <th>pairs1</th>\n",
       "      <th>80</th>\n",
       "      <td>0.086701</td>\n",
       "      <td>2</td>\n",
       "      <td>2</td>\n",
       "    </tr>\n",
       "    <tr>\n",
       "      <th>pairs2</th>\n",
       "      <th>50</th>\n",
       "      <td>0.08659</td>\n",
       "      <td>2</td>\n",
       "      <td>2</td>\n",
       "    </tr>\n",
       "    <tr>\n",
       "      <th rowspan=\"4\" valign=\"top\">pairs1</th>\n",
       "      <th>70</th>\n",
       "      <td>0.0846364</td>\n",
       "      <td>2</td>\n",
       "      <td>2</td>\n",
       "    </tr>\n",
       "    <tr>\n",
       "      <th>30</th>\n",
       "      <td>0.0814278</td>\n",
       "      <td>3</td>\n",
       "      <td>2</td>\n",
       "    </tr>\n",
       "    <tr>\n",
       "      <th>40</th>\n",
       "      <td>0.0812479</td>\n",
       "      <td>3</td>\n",
       "      <td>2</td>\n",
       "    </tr>\n",
       "    <tr>\n",
       "      <th>50</th>\n",
       "      <td>0.0783205</td>\n",
       "      <td>3</td>\n",
       "      <td>2</td>\n",
       "    </tr>\n",
       "    <tr>\n",
       "      <th>pairs2</th>\n",
       "      <th>80</th>\n",
       "      <td>0.0780948</td>\n",
       "      <td>2</td>\n",
       "      <td>2</td>\n",
       "    </tr>\n",
       "    <tr>\n",
       "      <th>pairs1</th>\n",
       "      <th>20</th>\n",
       "      <td>0.0770612</td>\n",
       "      <td>3</td>\n",
       "      <td>2</td>\n",
       "    </tr>\n",
       "    <tr>\n",
       "      <th>pairs2</th>\n",
       "      <th>40</th>\n",
       "      <td>0.0761346</td>\n",
       "      <td>2</td>\n",
       "      <td>3</td>\n",
       "    </tr>\n",
       "    <tr>\n",
       "      <th>pairs1</th>\n",
       "      <th>30</th>\n",
       "      <td>0.0744152</td>\n",
       "      <td>2</td>\n",
       "      <td>3</td>\n",
       "    </tr>\n",
       "    <tr>\n",
       "      <th rowspan=\"2\" valign=\"top\">pairs2</th>\n",
       "      <th>50</th>\n",
       "      <td>0.0739958</td>\n",
       "      <td>2</td>\n",
       "      <td>3</td>\n",
       "    </tr>\n",
       "    <tr>\n",
       "      <th>60</th>\n",
       "      <td>0.0737445</td>\n",
       "      <td>2</td>\n",
       "      <td>2</td>\n",
       "    </tr>\n",
       "    <tr>\n",
       "      <th>pairs1</th>\n",
       "      <th>60</th>\n",
       "      <td>0.0730318</td>\n",
       "      <td>3</td>\n",
       "      <td>2</td>\n",
       "    </tr>\n",
       "    <tr>\n",
       "      <th>pairs2</th>\n",
       "      <th>60</th>\n",
       "      <td>0.0721001</td>\n",
       "      <td>2</td>\n",
       "      <td>3</td>\n",
       "    </tr>\n",
       "    <tr>\n",
       "      <th>pairs1</th>\n",
       "      <th>40</th>\n",
       "      <td>0.0718922</td>\n",
       "      <td>2</td>\n",
       "      <td>3</td>\n",
       "    </tr>\n",
       "    <tr>\n",
       "      <th rowspan=\"3\" valign=\"top\">pairs2</th>\n",
       "      <th>70</th>\n",
       "      <td>0.0715957</td>\n",
       "      <td>2</td>\n",
       "      <td>2</td>\n",
       "    </tr>\n",
       "    <tr>\n",
       "      <th>70</th>\n",
       "      <td>0.0707315</td>\n",
       "      <td>2</td>\n",
       "      <td>3</td>\n",
       "    </tr>\n",
       "    <tr>\n",
       "      <th>30</th>\n",
       "      <td>0.0701258</td>\n",
       "      <td>2</td>\n",
       "      <td>3</td>\n",
       "    </tr>\n",
       "    <tr>\n",
       "      <th>pairs1</th>\n",
       "      <th>50</th>\n",
       "      <td>0.0700468</td>\n",
       "      <td>2</td>\n",
       "      <td>3</td>\n",
       "    </tr>\n",
       "    <tr>\n",
       "      <th>pairs2</th>\n",
       "      <th>80</th>\n",
       "      <td>0.0688717</td>\n",
       "      <td>2</td>\n",
       "      <td>3</td>\n",
       "    </tr>\n",
       "    <tr>\n",
       "      <th>pairs1</th>\n",
       "      <th>80</th>\n",
       "      <td>0.0686108</td>\n",
       "      <td>2</td>\n",
       "      <td>3</td>\n",
       "    </tr>\n",
       "    <tr>\n",
       "      <th>pairs2</th>\n",
       "      <th>20</th>\n",
       "      <td>0.0684068</td>\n",
       "      <td>2</td>\n",
       "      <td>3</td>\n",
       "    </tr>\n",
       "    <tr>\n",
       "      <th>...</th>\n",
       "      <th>...</th>\n",
       "      <td>...</td>\n",
       "      <td>...</td>\n",
       "      <td>...</td>\n",
       "    </tr>\n",
       "    <tr>\n",
       "      <th>pairs5</th>\n",
       "      <th>70</th>\n",
       "      <td>0.0204048</td>\n",
       "      <td>3</td>\n",
       "      <td>3</td>\n",
       "    </tr>\n",
       "    <tr>\n",
       "      <th>pairs3</th>\n",
       "      <th>60</th>\n",
       "      <td>0.0200418</td>\n",
       "      <td>3</td>\n",
       "      <td>3</td>\n",
       "    </tr>\n",
       "    <tr>\n",
       "      <th>pairs5</th>\n",
       "      <th>60</th>\n",
       "      <td>0.0198042</td>\n",
       "      <td>3</td>\n",
       "      <td>3</td>\n",
       "    </tr>\n",
       "    <tr>\n",
       "      <th>pairs3</th>\n",
       "      <th>50</th>\n",
       "      <td>0.0195884</td>\n",
       "      <td>3</td>\n",
       "      <td>2</td>\n",
       "    </tr>\n",
       "    <tr>\n",
       "      <th rowspan=\"3\" valign=\"top\">pairs5</th>\n",
       "      <th>40</th>\n",
       "      <td>0.0194765</td>\n",
       "      <td>3</td>\n",
       "      <td>3</td>\n",
       "    </tr>\n",
       "    <tr>\n",
       "      <th>50</th>\n",
       "      <td>0.0187579</td>\n",
       "      <td>3</td>\n",
       "      <td>3</td>\n",
       "    </tr>\n",
       "    <tr>\n",
       "      <th>80</th>\n",
       "      <td>0.0185536</td>\n",
       "      <td>3</td>\n",
       "      <td>3</td>\n",
       "    </tr>\n",
       "    <tr>\n",
       "      <th>pairs3</th>\n",
       "      <th>70</th>\n",
       "      <td>0.0183815</td>\n",
       "      <td>3</td>\n",
       "      <td>3</td>\n",
       "    </tr>\n",
       "    <tr>\n",
       "      <th>pairs6</th>\n",
       "      <th>40</th>\n",
       "      <td>0.0181499</td>\n",
       "      <td>3</td>\n",
       "      <td>3</td>\n",
       "    </tr>\n",
       "    <tr>\n",
       "      <th>pairs3</th>\n",
       "      <th>60</th>\n",
       "      <td>0.0178871</td>\n",
       "      <td>3</td>\n",
       "      <td>2</td>\n",
       "    </tr>\n",
       "    <tr>\n",
       "      <th>pairs5</th>\n",
       "      <th>30</th>\n",
       "      <td>0.0178125</td>\n",
       "      <td>3</td>\n",
       "      <td>3</td>\n",
       "    </tr>\n",
       "    <tr>\n",
       "      <th>pairs6</th>\n",
       "      <th>30</th>\n",
       "      <td>0.0173166</td>\n",
       "      <td>3</td>\n",
       "      <td>3</td>\n",
       "    </tr>\n",
       "    <tr>\n",
       "      <th>pairs3</th>\n",
       "      <th>50</th>\n",
       "      <td>0.0172338</td>\n",
       "      <td>2</td>\n",
       "      <td>2</td>\n",
       "    </tr>\n",
       "    <tr>\n",
       "      <th>pairs6</th>\n",
       "      <th>50</th>\n",
       "      <td>0.0168201</td>\n",
       "      <td>3</td>\n",
       "      <td>3</td>\n",
       "    </tr>\n",
       "    <tr>\n",
       "      <th rowspan=\"4\" valign=\"top\">pairs3</th>\n",
       "      <th>60</th>\n",
       "      <td>0.0164161</td>\n",
       "      <td>2</td>\n",
       "      <td>2</td>\n",
       "    </tr>\n",
       "    <tr>\n",
       "      <th>20</th>\n",
       "      <td>0.0162799</td>\n",
       "      <td>3</td>\n",
       "      <td>2</td>\n",
       "    </tr>\n",
       "    <tr>\n",
       "      <th>80</th>\n",
       "      <td>0.0160233</td>\n",
       "      <td>3</td>\n",
       "      <td>3</td>\n",
       "    </tr>\n",
       "    <tr>\n",
       "      <th>70</th>\n",
       "      <td>0.0159266</td>\n",
       "      <td>3</td>\n",
       "      <td>2</td>\n",
       "    </tr>\n",
       "    <tr>\n",
       "      <th rowspan=\"3\" valign=\"top\">pairs6</th>\n",
       "      <th>70</th>\n",
       "      <td>0.0157236</td>\n",
       "      <td>3</td>\n",
       "      <td>3</td>\n",
       "    </tr>\n",
       "    <tr>\n",
       "      <th>80</th>\n",
       "      <td>0.0156455</td>\n",
       "      <td>3</td>\n",
       "      <td>3</td>\n",
       "    </tr>\n",
       "    <tr>\n",
       "      <th>60</th>\n",
       "      <td>0.0155706</td>\n",
       "      <td>3</td>\n",
       "      <td>3</td>\n",
       "    </tr>\n",
       "    <tr>\n",
       "      <th rowspan=\"4\" valign=\"top\">pairs3</th>\n",
       "      <th>50</th>\n",
       "      <td>0.0149859</td>\n",
       "      <td>2</td>\n",
       "      <td>3</td>\n",
       "    </tr>\n",
       "    <tr>\n",
       "      <th>80</th>\n",
       "      <td>0.0146658</td>\n",
       "      <td>3</td>\n",
       "      <td>2</td>\n",
       "    </tr>\n",
       "    <tr>\n",
       "      <th>70</th>\n",
       "      <td>0.0146446</td>\n",
       "      <td>2</td>\n",
       "      <td>2</td>\n",
       "    </tr>\n",
       "    <tr>\n",
       "      <th>60</th>\n",
       "      <td>0.0140111</td>\n",
       "      <td>2</td>\n",
       "      <td>3</td>\n",
       "    </tr>\n",
       "    <tr>\n",
       "      <th>pairs5</th>\n",
       "      <th>20</th>\n",
       "      <td>0.0133172</td>\n",
       "      <td>3</td>\n",
       "      <td>3</td>\n",
       "    </tr>\n",
       "    <tr>\n",
       "      <th>pairs6</th>\n",
       "      <th>20</th>\n",
       "      <td>0.0131298</td>\n",
       "      <td>3</td>\n",
       "      <td>3</td>\n",
       "    </tr>\n",
       "    <tr>\n",
       "      <th rowspan=\"3\" valign=\"top\">pairs3</th>\n",
       "      <th>70</th>\n",
       "      <td>0.0128486</td>\n",
       "      <td>2</td>\n",
       "      <td>3</td>\n",
       "    </tr>\n",
       "    <tr>\n",
       "      <th>80</th>\n",
       "      <td>0.0128139</td>\n",
       "      <td>2</td>\n",
       "      <td>2</td>\n",
       "    </tr>\n",
       "    <tr>\n",
       "      <th>80</th>\n",
       "      <td>0.0107852</td>\n",
       "      <td>2</td>\n",
       "      <td>3</td>\n",
       "    </tr>\n",
       "  </tbody>\n",
       "</table>\n",
       "<p>140 rows × 3 columns</p>\n",
       "</div>"
      ],
      "text/plain": [
       "                   sharpe k1 k2\n",
       "pairs  windows                 \n",
       "pairs1 30        0.105857  2  2\n",
       "       40          0.1019  2  2\n",
       "       20        0.100352  2  2\n",
       "       50       0.0978806  2  2\n",
       "       60       0.0918111  2  2\n",
       "pairs2 40       0.0899824  2  2\n",
       "       20       0.0879231  2  2\n",
       "       30        0.087913  2  2\n",
       "pairs1 80        0.086701  2  2\n",
       "pairs2 50         0.08659  2  2\n",
       "pairs1 70       0.0846364  2  2\n",
       "       30       0.0814278  3  2\n",
       "       40       0.0812479  3  2\n",
       "       50       0.0783205  3  2\n",
       "pairs2 80       0.0780948  2  2\n",
       "pairs1 20       0.0770612  3  2\n",
       "pairs2 40       0.0761346  2  3\n",
       "pairs1 30       0.0744152  2  3\n",
       "pairs2 50       0.0739958  2  3\n",
       "       60       0.0737445  2  2\n",
       "pairs1 60       0.0730318  3  2\n",
       "pairs2 60       0.0721001  2  3\n",
       "pairs1 40       0.0718922  2  3\n",
       "pairs2 70       0.0715957  2  2\n",
       "       70       0.0707315  2  3\n",
       "       30       0.0701258  2  3\n",
       "pairs1 50       0.0700468  2  3\n",
       "pairs2 80       0.0688717  2  3\n",
       "pairs1 80       0.0686108  2  3\n",
       "pairs2 20       0.0684068  2  3\n",
       "...                   ... .. ..\n",
       "pairs5 70       0.0204048  3  3\n",
       "pairs3 60       0.0200418  3  3\n",
       "pairs5 60       0.0198042  3  3\n",
       "pairs3 50       0.0195884  3  2\n",
       "pairs5 40       0.0194765  3  3\n",
       "       50       0.0187579  3  3\n",
       "       80       0.0185536  3  3\n",
       "pairs3 70       0.0183815  3  3\n",
       "pairs6 40       0.0181499  3  3\n",
       "pairs3 60       0.0178871  3  2\n",
       "pairs5 30       0.0178125  3  3\n",
       "pairs6 30       0.0173166  3  3\n",
       "pairs3 50       0.0172338  2  2\n",
       "pairs6 50       0.0168201  3  3\n",
       "pairs3 60       0.0164161  2  2\n",
       "       20       0.0162799  3  2\n",
       "       80       0.0160233  3  3\n",
       "       70       0.0159266  3  2\n",
       "pairs6 70       0.0157236  3  3\n",
       "       80       0.0156455  3  3\n",
       "       60       0.0155706  3  3\n",
       "pairs3 50       0.0149859  2  3\n",
       "       80       0.0146658  3  2\n",
       "       70       0.0146446  2  2\n",
       "       60       0.0140111  2  3\n",
       "pairs5 20       0.0133172  3  3\n",
       "pairs6 20       0.0131298  3  3\n",
       "pairs3 70       0.0128486  2  3\n",
       "       80       0.0128139  2  2\n",
       "       80       0.0107852  2  3\n",
       "\n",
       "[140 rows x 3 columns]"
      ]
     },
     "execution_count": 29,
     "metadata": {},
     "output_type": "execute_result"
    }
   ],
   "source": [
    "pairs_results.sort_values(by=\"sharpe\",ascending=False)"
   ]
  },
  {
   "cell_type": "code",
   "execution_count": 30,
   "metadata": {
    "collapsed": false
   },
   "outputs": [
    {
     "data": {
      "text/plain": [
       "{'efficient': 5, 'x': 'I', 'y': 'RB'}"
      ]
     },
     "execution_count": 30,
     "metadata": {},
     "output_type": "execute_result"
    }
   ],
   "source": [
    "get_efficient(pairs1,\"2013-01-01\",\"2018-01-01\")"
   ]
  },
  {
   "cell_type": "code",
   "execution_count": 31,
   "metadata": {
    "collapsed": false
   },
   "outputs": [
    {
     "data": {
      "text/plain": [
       "{'efficient': 1, 'x': 'JM', 'y': 'J'}"
      ]
     },
     "execution_count": 31,
     "metadata": {},
     "output_type": "execute_result"
    }
   ],
   "source": [
    "get_efficient(pairs2,\"2013-01-01\",\"2018-01-01\")"
   ]
  },
  {
   "cell_type": "code",
   "execution_count": 32,
   "metadata": {
    "collapsed": false
   },
   "outputs": [
    {
     "data": {
      "text/plain": [
       "{'efficient': 1, 'x': 'M', 'y': 'JD'}"
      ]
     },
     "execution_count": 32,
     "metadata": {},
     "output_type": "execute_result"
    }
   ],
   "source": [
    "get_efficient(pairs3,\"2013-01-01\",\"2018-01-01\")"
   ]
  },
  {
   "cell_type": "code",
   "execution_count": 34,
   "metadata": {
    "collapsed": false
   },
   "outputs": [
    {
     "data": {
      "text/plain": [
       "{'efficient': 15, 'x': 'AU', 'y': 'AG'}"
      ]
     },
     "execution_count": 34,
     "metadata": {},
     "output_type": "execute_result"
    }
   ],
   "source": [
    "get_efficient(pairs5,\"2013-01-01\",\"2018-01-01\")"
   ]
  },
  {
   "cell_type": "code",
   "execution_count": 35,
   "metadata": {
    "collapsed": false
   },
   "outputs": [
    {
     "data": {
      "text/plain": [
       "{'efficient': 2, 'x': 'ZN', 'y': 'CU'}"
      ]
     },
     "execution_count": 35,
     "metadata": {},
     "output_type": "execute_result"
    }
   ],
   "source": [
    "get_efficient(pairs6,\"2013-01-01\",\"2018-01-01\")"
   ]
  },
  {
   "cell_type": "code",
   "execution_count": 40,
   "metadata": {
    "collapsed": false
   },
   "outputs": [
    {
     "data": {
      "text/plain": [
       "<matplotlib.axes._subplots.AxesSubplot at 0x7f8d9c5214a8>"
      ]
     },
     "execution_count": 40,
     "metadata": {},
     "output_type": "execute_result"
    },
    {
     "data": {
      "image/png": "[encoded data removed]",
      "text/plain": [
       "<matplotlib.figure.Figure at 0x7f8d9fd73320>"
      ]
     },
     "metadata": {},
     "output_type": "display_data"
    }
   ],
   "source": [
    "get_price([i+\"88\" for i in pairs6],\"2013-01-01\",\"2018-01-01\",fields=\"close\").dropna().plot()"
   ]
  }
 ],
 "metadata": {
  "kernelspec": {
   "display_name": "Python 3",
   "language": "python",
   "name": "python3"
  },
  "language_info": {
   "codemirror_mode": {
    "name": "ipython",
    "version": 3
   },
   "file_extension": ".py",
   "mimetype": "text/x-python",
   "name": "python",
   "nbconvert_exporter": "python",
   "pygments_lexer": "ipython3",
   "version": "3.5.4"
  }
 },
 "nbformat": 4,
 "nbformat_minor": 2
}
